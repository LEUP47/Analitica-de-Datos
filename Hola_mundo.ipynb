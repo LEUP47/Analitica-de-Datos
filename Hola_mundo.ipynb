{
  "cells": [
    {
      "cell_type": "markdown",
      "metadata": {
        "colab_type": "text",
        "id": "view-in-github"
      },
      "source": [
        "<a href=\"https://colab.research.google.com/github/LEUP47/Analitica-de-Datos/blob/main/Hola_mundo.ipynb\" target=\"_parent\"><img src=\"https://colab.research.google.com/assets/colab-badge.svg\" alt=\"Open In Colab\"/></a>"
      ]
    },
    {
      "cell_type": "code",
      "execution_count": null,
      "metadata": {
        "id": "Oj5gQ3-snqnS"
      },
      "outputs": [],
      "source": [
        "#Definimos 2 arreglos de dimension 100\n",
        "#Seguimos probando yolo\n",
        "import numpy as np\n",
        "from matplotlib import pyplot as plt\n",
        "ys=200+np.random.randn(100)\n",
        "x=np.arange(0,100,1)"
      ]
    },
    {
      "cell_type": "code",
      "execution_count": null,
      "metadata": {
        "colab": {
          "base_uri": "https://localhost:8080/",
          "height": 478
        },
        "id": "qIm_WUjZpxrT",
        "outputId": "980807cd-8ed0-4c60-a693-1e776f116e3c"
      },
      "outputs": [],
      "source": [
        "#GRaficamos los arreglos en un plano 2D\n",
        "plt.plot(x,ys,'.')\n",
        "plt.fill_between(x,ys,200,facecolor='slateblue',alpha=0.6)\n",
        "\n",
        "#Agregamos titulo a la gráfica\n",
        "plt.title(\"Sample Visualization\")\n",
        "plt.xlabel(\"eje de las x\",size=15,color='green')\n",
        "plt.ylabel(\"eje de las y\",size=15)\n",
        "plt.show()\n"
      ]
    }
  ],
  "metadata": {
    "colab": {
      "authorship_tag": "ABX9TyOW4/MFrON/7nD/hIV9r/fr",
      "include_colab_link": true,
      "provenance": []
    },
    "kernelspec": {
      "display_name": "Python 3",
      "name": "python3"
    },
    "language_info": {
      "codemirror_mode": {
        "name": "ipython",
        "version": 3
      },
      "file_extension": ".py",
      "mimetype": "text/x-python",
      "name": "python",
      "nbconvert_exporter": "python",
      "pygments_lexer": "ipython3",
      "version": "3.12.4"
    }
  },
  "nbformat": 4,
  "nbformat_minor": 0
}
